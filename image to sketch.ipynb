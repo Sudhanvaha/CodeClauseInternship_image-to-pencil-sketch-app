{
 "cells": [
  {
   "cell_type": "code",
   "execution_count": 30,
   "id": "365db15a",
   "metadata": {
    "scrolled": true
   },
   "outputs": [],
   "source": [
    "#Image to sketch app\n",
    "import cv2\n",
    "import numpy as np\n",
    "import tkinter as tk\n",
    "from tkinter import filedialog\n",
    "from PIL import Image, ImageTk\n",
    "\n",
    "def convert_to_pencil_sketch(image_path):\n",
    "    image = cv2.imread(image_path)\n",
    "    grey_filter = cv2.cvtColor(image, cv2.COLOR_BGR2GRAY)\n",
    "    invert = cv2.bitwise_not(grey_filter)\n",
    "    blur = cv2.GaussianBlur(invert, (21, 21), 0)\n",
    "    invertedblur = cv2.bitwise_not(blur)\n",
    "    sketch_filter = cv2.divide(grey_filter, invertedblur, scale=256.0)\n",
    "    return sketch_filter\n",
    "\n",
    "def open_image():\n",
    "    file_path = filedialog.askopenfilename()\n",
    "    if file_path:\n",
    "        sketch = convert_to_pencil_sketch(file_path)\n",
    "        sketch_img = Image.fromarray(sketch)\n",
    "        sketch_img = ImageTk.PhotoImage(sketch_img)\n",
    "        result_label.config(image=sketch_img)\n",
    "        result_label.image = sketch_img\n",
    "\n",
    "app = tk.Tk()\n",
    "app.title(\"Pencil Sketch App\")\n",
    "\n",
    "open_button = tk.Button(app, text=\"Open Image\", command=open_image)\n",
    "open_button.pack(pady=10)\n",
    "\n",
    "result_label = tk.Label(app)\n",
    "result_label.pack()\n",
    "\n",
    "app.mainloop()\n"
   ]
  },
  {
   "cell_type": "code",
   "execution_count": 29,
   "id": "5841f5f8",
   "metadata": {},
   "outputs": [],
   "source": [
    "\n"
   ]
  },
  {
   "cell_type": "code",
   "execution_count": null,
   "id": "a606a773",
   "metadata": {},
   "outputs": [],
   "source": []
  }
 ],
 "metadata": {
  "kernelspec": {
   "display_name": "Python 3 (ipykernel)",
   "language": "python",
   "name": "python3"
  },
  "language_info": {
   "codemirror_mode": {
    "name": "ipython",
    "version": 3
   },
   "file_extension": ".py",
   "mimetype": "text/x-python",
   "name": "python",
   "nbconvert_exporter": "python",
   "pygments_lexer": "ipython3",
   "version": "3.9.13"
  }
 },
 "nbformat": 4,
 "nbformat_minor": 5
}
